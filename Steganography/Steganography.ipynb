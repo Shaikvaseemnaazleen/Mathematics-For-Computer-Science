{
  "nbformat": 4,
  "nbformat_minor": 0,
  "metadata": {
    "colab": {
      "name": "Steganography.ipynb",
      "provenance": [],
      "collapsed_sections": [],
      "toc_visible": true
    },
    "kernelspec": {
      "name": "python3",
      "display_name": "Python 3"
    }
  },
  "cells": [
    {
      "cell_type": "markdown",
      "metadata": {
        "id": "ah3xSF1eVMgK",
        "colab_type": "text"
      },
      "source": [
        "# **STEGANOGRAPHY**"
      ]
    },
    {
      "cell_type": "code",
      "metadata": {
        "id": "mKUhZyiO4MxS",
        "colab_type": "code",
        "colab": {}
      },
      "source": [
        "import matplotlib.pyplot as plt\n",
        "import matplotlib.image as mpllimg\n",
        "import PIL as Image\n",
        "\n",
        "%matplotlib inline"
      ],
      "execution_count": 95,
      "outputs": []
    },
    {
      "cell_type": "code",
      "metadata": {
        "id": "i-8vck6q4MZu",
        "colab_type": "code",
        "colab": {}
      },
      "source": [
        "# Load & Preprocess Image (Image -> Array)\n",
        "\n",
        "def load_and_process_image(image_path):\n",
        "    img = load_img(image_path)\n",
        "    img =img_to_array(img)\n",
        "    img = preprocess_input(img)\n",
        "    img = np.expand_dims(img, axis = 0)\n",
        "    return img\n",
        "\n",
        "# Deprocess the Image (Array -> Image)\n",
        "\n",
        "def deprocess(x):\n",
        "    # perform the inverse of the preprocessiing step\n",
        "    x[:, :, 0] += 103.939\n",
        "    x[:, :, 1] += 116.779\n",
        "    x[:, :, 2] += 123.68\n",
        "    x = x[:, :, ::-1]\n",
        "\n",
        "    # Clip the image from float to integer bw 0 - 255\n",
        "    x = np.clip(x, 0, 255).astype('uint8')\n",
        "    return x"
      ],
      "execution_count": 96,
      "outputs": []
    },
    {
      "cell_type": "code",
      "metadata": {
        "id": "_mo1pExQ-s-Z",
        "colab_type": "code",
        "colab": {
          "base_uri": "https://localhost:8080/",
          "height": 1000
        },
        "outputId": "5e8e25e0-02e3-4eb9-94d3-99e70b0ea579"
      },
      "source": [
        "#!/usr/bin/env python3\n",
        "\n",
        "# Library to convert process images\n",
        "from PIL import Image\n",
        "import numpy as np\n",
        "\n",
        "# Function to decode a color of pixel value\n",
        "def bdecode(pixel):\n",
        "    bin_decoded = bin(pixel)[-4:] + \"0000\"\n",
        "    return int(bin_decoded, 2)\n",
        "\n",
        "def hdecode(pixel):\n",
        "    hex_decoded = hex(pixel)[len(hex(pixel)) - 1] + \"0\"\n",
        "    return int(hex_decoded, 16)\n",
        "\n",
        "\n",
        "# Function decodes all the three RGB values\n",
        "def bdecode_pixel(pixel):\n",
        "    return bdecode(pixel[0]), bdecode(pixel[1]), bdecode(pixel[2])\n",
        "\n",
        "def hdecode_pixel(pixel):\n",
        "    return hdecode(pixel[0]), hdecode(pixel[1]), hdecode(pixel[2])\n",
        "\n",
        "# Main program\n",
        "def main(fname, output):\n",
        "    f = open(fname, \"r\")\n",
        "    data = f.readlines()\n",
        "\n",
        "    print(len(data))\n",
        "    rows = int(data[0]) #int(input(\"Enter number of rows in image: \"))\n",
        "    cols = int(data[1]) #int(input(\"Enter number of columns in image: \"))\n",
        "\n",
        "    image = [[] for row in range(rows)]\n",
        "    pixel = 0\n",
        "    i = 2\n",
        "    for row in range(rows):\n",
        "        for col in range(cols):\n",
        "            pixel = list(map(int, data[i].rstrip('\\n').split()))\n",
        "            #list(map(int, input(\"Enter {} row {} col pixel RGB values: \".format(row, col)).split()))\n",
        "\n",
        "            pixel = bdecode_pixel(pixel)  # using binary converstion\n",
        "            # Uncomment the below line to use hexadecimal conversion\n",
        "            # pixel = hdecode_pixel(pixel)\n",
        "             \n",
        "            image[row].append(pixel)\n",
        "            i += 1\n",
        "\n",
        "    for row in range(rows):\n",
        "        for col in range(cols):\n",
        "            print(image[row][col], end=\" \")\n",
        "        print()\n",
        "\n",
        "    image = np.array(image, dtype=np.uint8)\n",
        "\n",
        "    image = Image.fromarray(image)\n",
        "    image.save(output)\n",
        "\n",
        "\n",
        "output = \"decoded\"\n",
        "format = \".jpg\"\n",
        "fname = \"img\"\n",
        "\n",
        "for i in range(11):\n",
        "    print(i + 1)\n",
        "    main(fname + str(i + 1) + \".txt\", output + str(i + 1) + format)"
      ],
      "execution_count": 97,
      "outputs": [
        {
          "output_type": "stream",
          "text": [
            "1\n",
            "18\n",
            "(160, 160, 160) (160, 160, 160) (160, 160, 160) (160, 160, 160) \n",
            "(160, 160, 160) (240, 0, 0) (240, 0, 0) (240, 0, 0) \n",
            "(160, 160, 160) (240, 0, 0) (240, 0, 0) (160, 160, 160) \n",
            "(160, 160, 160) (160, 160, 160) (160, 160, 160) (160, 160, 160) \n",
            "2\n",
            "18\n",
            "(0, 0, 240) (0, 0, 240) (0, 0, 240) (0, 0, 240) \n",
            "(240, 240, 240) (240, 240, 240) (0, 0, 240) (0, 0, 240) \n",
            "(0, 0, 240) (0, 0, 240) (0, 0, 240) (0, 0, 240) \n",
            "(0, 0, 240) (240, 240, 240) (0, 0, 240) (240, 240, 240) \n",
            "3\n",
            "18\n",
            "(0, 240, 0) (0, 240, 0) (0, 240, 0) (0, 240, 0) \n",
            "(0, 240, 0) (240, 240, 240) (240, 240, 240) (0, 240, 0) \n",
            "(0, 240, 0) (0, 240, 0) (0, 240, 0) (0, 240, 0) \n",
            "(0, 240, 0) (240, 240, 240) (240, 240, 240) (0, 240, 0) \n",
            "4\n",
            "18\n",
            "(240, 0, 0) (240, 0, 0) (240, 0, 0) (240, 0, 0) \n",
            "(240, 0, 0) (240, 224, 208) (240, 224, 208) (240, 224, 208) \n",
            "(240, 0, 0) (240, 224, 208) (240, 224, 208) (240, 224, 208) \n",
            "(240, 0, 0) (240, 0, 0) (240, 0, 0) (240, 0, 0) \n",
            "5\n",
            "18\n",
            "(0, 0, 0) (0, 0, 0) (0, 0, 0) (0, 0, 0) \n",
            "(0, 0, 0) (0, 0, 0) (0, 0, 0) (240, 224, 208) \n",
            "(0, 0, 0) (240, 224, 208) (240, 224, 208) (240, 224, 208) \n",
            "(0, 0, 0) (0, 0, 0) (0, 0, 0) (0, 0, 0) \n",
            "6\n",
            "18\n",
            "(0, 0, 0) (208, 224, 240) (208, 224, 240) (0, 0, 0) \n",
            "(0, 0, 0) (208, 224, 240) (208, 224, 240) (0, 0, 0) \n",
            "(0, 0, 0) (0, 0, 0) (0, 0, 0) (0, 0, 0) \n",
            "(0, 0, 0) (208, 224, 240) (208, 224, 240) (0, 0, 0) \n",
            "7\n",
            "18\n",
            "(208, 224, 240) (208, 224, 240) (208, 224, 240) (208, 224, 240) \n",
            "(208, 224, 240) (112, 160, 64) (112, 160, 64) (208, 224, 240) \n",
            "(208, 224, 240) (112, 160, 64) (112, 160, 64) (208, 224, 240) \n",
            "(208, 224, 240) (208, 224, 240) (208, 224, 240) (208, 224, 240) \n",
            "8\n",
            "18\n",
            "(208, 224, 240) (208, 224, 240) (208, 224, 240) (208, 224, 240) \n",
            "(208, 224, 240) (144, 192, 80) (144, 192, 80) (208, 224, 240) \n",
            "(208, 224, 240) (208, 224, 240) (208, 224, 240) (208, 224, 240) \n",
            "(208, 224, 240) (144, 192, 80) (144, 192, 80) (144, 208, 80) \n",
            "9\n",
            "18\n",
            "(240, 224, 208) (240, 224, 208) (240, 224, 208) (240, 224, 208) \n",
            "(240, 224, 208) (176, 128, 16) (176, 128, 16) (240, 224, 208) \n",
            "(240, 224, 208) (240, 224, 208) (240, 224, 208) (240, 224, 208) \n",
            "(240, 224, 208) (176, 128, 16) (176, 128, 16) (176, 128, 16) \n",
            "10\n",
            "18\n",
            "(240, 240, 0) (240, 240, 0) (240, 240, 0) (240, 240, 0) \n",
            "(240, 240, 0) (240, 240, 0) (240, 240, 0) (240, 0, 0) \n",
            "(240, 240, 0) (240, 0, 0) (240, 0, 0) (240, 0, 0) \n",
            "(240, 240, 0) (240, 240, 0) (240, 240, 0) (240, 240, 0) \n",
            "11\n",
            "18\n",
            "(0, 0, 240) (0, 0, 240) (0, 0, 240) (0, 0, 240) \n",
            "(0, 0, 240) (144, 192, 224) (144, 192, 224) (0, 0, 240) \n",
            "(0, 0, 240) (0, 0, 240) (0, 0, 240) (0, 0, 240) \n",
            "(0, 0, 240) (144, 192, 224) (0, 0, 240) (144, 192, 224) \n"
          ],
          "name": "stdout"
        }
      ]
    },
    {
      "cell_type": "code",
      "metadata": {
        "id": "vFS97AW9s2-L",
        "colab_type": "code",
        "colab": {
          "base_uri": "https://localhost:8080/",
          "height": 252
        },
        "outputId": "57095400-ab30-4509-ed06-4a69ec9a03c9"
      },
      "source": [
        "img = load_and_process_image('decoded1.jpg')\n",
        "display_image(img)"
      ],
      "execution_count": 101,
      "outputs": [
        {
          "output_type": "display_data",
          "data": {
            "image/png": "[encoded data removed]",
            "text/plain": [
              "<Figure size 432x288 with 1 Axes>"
            ]
          },
          "metadata": {
            "tags": []
          }
        }
      ]
    },
    {
      "cell_type": "code",
      "metadata": {
        "id": "_V6UH0P2zLZN",
        "colab_type": "code",
        "colab": {
          "base_uri": "https://localhost:8080/",
          "height": 252
        },
        "outputId": "388c27f1-8046-4914-8a52-03652b18b653"
      },
      "source": [
        "img = load_and_process_image('decoded2.jpg')\n",
        "display_image(img)"
      ],
      "execution_count": 102,
      "outputs": [
        {
          "output_type": "display_data",
          "data": {
            "image/png": "[encoded data removed]",
            "text/plain": [
              "<Figure size 432x288 with 1 Axes>"
            ]
          },
          "metadata": {
            "tags": []
          }
        }
      ]
    },
    {
      "cell_type": "code",
      "metadata": {
        "id": "gZ5Yy_mb3eNm",
        "colab_type": "code",
        "colab": {
          "base_uri": "https://localhost:8080/",
          "height": 252
        },
        "outputId": "c6cd3c5a-de4f-4f87-d305-055538f2c2a1"
      },
      "source": [
        "img = load_and_process_image('decoded3.jpg')\n",
        "display_image(img)"
      ],
      "execution_count": 103,
      "outputs": [
        {
          "output_type": "display_data",
          "data": {
            "image/png": "[encoded data removed]",
            "text/plain": [
              "<Figure size 432x288 with 1 Axes>"
            ]
          },
          "metadata": {
            "tags": []
          }
        }
      ]
    },
    {
      "cell_type": "code",
      "metadata": {
        "id": "bnXXbHGn3gDR",
        "colab_type": "code",
        "colab": {
          "base_uri": "https://localhost:8080/",
          "height": 252
        },
        "outputId": "bbdcc5b8-8c31-4fd9-bada-bd5c86a6d7b3"
      },
      "source": [
        "img = load_and_process_image('decoded4.jpg')\n",
        "display_image(img)"
      ],
      "execution_count": 104,
      "outputs": [
        {
          "output_type": "display_data",
          "data": {
            "image/png": "[encoded data removed]",
            "text/plain": [
              "<Figure size 432x288 with 1 Axes>"
            ]
          },
          "metadata": {
            "tags": []
          }
        }
      ]
    },
    {
      "cell_type": "code",
      "metadata": {
        "id": "IMVZ8Lew6_Bb",
        "colab_type": "code",
        "colab": {
          "base_uri": "https://localhost:8080/",
          "height": 252
        },
        "outputId": "b917ccd0-77f2-43fe-b4dd-6400278d52c6"
      },
      "source": [
        "img = load_and_process_image('decoded5.jpg')\n",
        "display_image(img)"
      ],
      "execution_count": 105,
      "outputs": [
        {
          "output_type": "display_data",
          "data": {
            "image/png": "[encoded data removed]",
            "text/plain": [
              "<Figure size 432x288 with 1 Axes>"
            ]
          },
          "metadata": {
            "tags": []
          }
        }
      ]
    },
    {
      "cell_type": "code",
      "metadata": {
        "id": "RuXFKsBB7Yjz",
        "colab_type": "code",
        "colab": {
          "base_uri": "https://localhost:8080/",
          "height": 252
        },
        "outputId": "6a425250-4277-442e-971a-2c49275e9a1e"
      },
      "source": [
        "img = load_and_process_image('decoded6.jpg')\n",
        "display_image(img)"
      ],
      "execution_count": 106,
      "outputs": [
        {
          "output_type": "display_data",
          "data": {
            "image/png": "[encoded data removed]",
            "text/plain": [
              "<Figure size 432x288 with 1 Axes>"
            ]
          },
          "metadata": {
            "tags": []
          }
        }
      ]
    },
    {
      "cell_type": "code",
      "metadata": {
        "id": "cTfbUvkEC-JE",
        "colab_type": "code",
        "colab": {
          "base_uri": "https://localhost:8080/",
          "height": 252
        },
        "outputId": "6b1dede1-f450-4e39-d0b4-954322e8cee4"
      },
      "source": [
        "img = load_and_process_image('decoded7.jpg')\n",
        "display_image(img)"
      ],
      "execution_count": 107,
      "outputs": [
        {
          "output_type": "display_data",
          "data": {
            "image/png": "[encoded data removed]",
            "text/plain": [
              "<Figure size 432x288 with 1 Axes>"
            ]
          },
          "metadata": {
            "tags": []
          }
        }
      ]
    },
    {
      "cell_type": "code",
      "metadata": {
        "id": "PI3QDgI3DAL8",
        "colab_type": "code",
        "colab": {
          "base_uri": "https://localhost:8080/",
          "height": 252
        },
        "outputId": "eb048cf9-43e5-4c45-9e03-91cd819154e8"
      },
      "source": [
        "img = load_and_process_image('decoded8.jpg')\n",
        "display_image(img)"
      ],
      "execution_count": 108,
      "outputs": [
        {
          "output_type": "display_data",
          "data": {
            "image/png": "[encoded data removed]",
            "text/plain": [
              "<Figure size 432x288 with 1 Axes>"
            ]
          },
          "metadata": {
            "tags": []
          }
        }
      ]
    },
    {
      "cell_type": "code",
      "metadata": {
        "id": "DeAXeMioDEV7",
        "colab_type": "code",
        "colab": {
          "base_uri": "https://localhost:8080/",
          "height": 252
        },
        "outputId": "80d11edf-9b20-4b9c-b8f5-1233f086d8b2"
      },
      "source": [
        "img = load_and_process_image('decoded9.jpg')\n",
        "display_image(img)"
      ],
      "execution_count": 109,
      "outputs": [
        {
          "output_type": "display_data",
          "data": {
            "image/png": "[encoded data removed]",
            "text/plain": [
              "<Figure size 432x288 with 1 Axes>"
            ]
          },
          "metadata": {
            "tags": []
          }
        }
      ]
    },
    {
      "cell_type": "code",
      "metadata": {
        "id": "-CQ8-pGyDHW8",
        "colab_type": "code",
        "colab": {
          "base_uri": "https://localhost:8080/",
          "height": 252
        },
        "outputId": "f0fcc542-2c08-4d51-e572-fbb756e60bd1"
      },
      "source": [
        "img = load_and_process_image('decoded10.jpg')\n",
        "display_image(img)"
      ],
      "execution_count": 110,
      "outputs": [
        {
          "output_type": "display_data",
          "data": {
            "image/png": "[encoded data removed]",
            "text/plain": [
              "<Figure size 432x288 with 1 Axes>"
            ]
          },
          "metadata": {
            "tags": []
          }
        }
      ]
    },
    {
      "cell_type": "code",
      "metadata": {
        "id": "KrxIw5gYDJd6",
        "colab_type": "code",
        "colab": {
          "base_uri": "https://localhost:8080/",
          "height": 252
        },
        "outputId": "369d42b6-a3df-47ee-f575-452e175d5da3"
      },
      "source": [
        "img = load_and_process_image('decoded11.jpg')\n",
        "display_image(img)"
      ],
      "execution_count": 111,
      "outputs": [
        {
          "output_type": "display_data",
          "data": {
            "image/png": "[encoded data removed]",
            "text/plain": [
              "<Figure size 432x288 with 1 Axes>"
            ]
          },
          "metadata": {
            "tags": []
          }
        }
      ]
    }
  ]
}