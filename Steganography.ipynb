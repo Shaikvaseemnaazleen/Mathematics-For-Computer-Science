{
  "nbformat": 4,
  "nbformat_minor": 0,
  "metadata": {
    "colab": {
      "name": "Steganography.ipynb",
      "provenance": [],
      "collapsed_sections": [],
      "toc_visible": true
    },
    "kernelspec": {
      "name": "python3",
      "display_name": "Python 3"
    }
  },
  "cells": [
    {
      "cell_type": "markdown",
      "metadata": {
        "id": "ah3xSF1eVMgK",
        "colab_type": "text"
      },
      "source": [
        "# **STEGANOGRAPHY**"
      ]
    },
    {
      "cell_type": "code",
      "metadata": {
        "id": "_mo1pExQ-s-Z",
        "colab_type": "code",
        "colab": {
          "base_uri": "https://localhost:8080/",
          "height": 1000
        },
        "outputId": "33a72a0a-5161-48c6-af60-674bb5c7b464"
      },
      "source": [
        "#!/usr/bin/env python3\n",
        "\n",
        "# Library to convert process images\n",
        "from PIL import Image\n",
        "import numpy as np\n",
        "\n",
        "# Function to decode a color of pixel value\n",
        "def bdecode(pixel):\n",
        "    bin_decoded = bin(pixel)[-4:] + \"0000\"\n",
        "    return int(bin_decoded, 2)\n",
        "\n",
        "def hdecode(pixel):\n",
        "    hex_decoded = hex(pixel)[len(hex(pixel)) - 1] + \"0\"\n",
        "    return int(hex_decoded, 16)\n",
        "\n",
        "\n",
        "# Function decodes all the three RGB values\n",
        "def bdecode_pixel(pixel):\n",
        "    return bdecode(pixel[0]), bdecode(pixel[1]), bdecode(pixel[2])\n",
        "\n",
        "def hdecode_pixel(pixel):\n",
        "    return hdecode(pixel[0]), hdecode(pixel[1]), hdecode(pixel[2])\n",
        "\n",
        "# Main program\n",
        "def main(fname, output):\n",
        "    f = open(fname, \"r\")\n",
        "    data = f.readlines()\n",
        "\n",
        "    print(len(data))\n",
        "    rows = int(data[0]) #int(input(\"Enter number of rows in image: \"))\n",
        "    cols = int(data[1]) #int(input(\"Enter number of columns in image: \"))\n",
        "\n",
        "    image = [[] for row in range(rows)]\n",
        "    pixel = 0\n",
        "    i = 2\n",
        "    for row in range(rows):\n",
        "        for col in range(cols):\n",
        "            pixel = list(map(int, data[i].rstrip('\\n').split()))\n",
        "            #list(map(int, input(\"Enter {} row {} col pixel RGB values: \".format(row, col)).split()))\n",
        "\n",
        "            pixel = bdecode_pixel(pixel)  # using binary converstion\n",
        "            # Uncomment the below line to use hexadecimal conversion\n",
        "            # pixel = hdecode_pixel(pixel)\n",
        "             \n",
        "            image[row].append(pixel)\n",
        "            i += 1\n",
        "\n",
        "    for row in range(rows):\n",
        "        for col in range(cols):\n",
        "            print(image[row][col], end=\" \")\n",
        "        print()\n",
        "\n",
        "    image = np.array(image, dtype=np.uint8)\n",
        "\n",
        "    image = Image.fromarray(image)\n",
        "    image.save(output)\n",
        "\n",
        "\n",
        "output = \"decoded\"\n",
        "format = \".jpg\"\n",
        "fname = \"img\"\n",
        "\n",
        "for i in range(11):\n",
        "    print(i + 1)\n",
        "    main(fname + str(i + 1) + \".txt\", output + str(i + 1) + format)"
      ],
      "execution_count": 116,
      "outputs": [
        {
          "output_type": "stream",
          "text": [
            "1\n",
            "18\n",
            "(160, 160, 160) (160, 160, 160) (160, 160, 160) (160, 160, 160) \n",
            "(160, 160, 160) (240, 0, 0) (240, 0, 0) (240, 0, 0) \n",
            "(160, 160, 160) (240, 0, 0) (240, 0, 0) (160, 160, 160) \n",
            "(160, 160, 160) (160, 160, 160) (160, 160, 160) (160, 160, 160) \n",
            "2\n",
            "18\n",
            "(0, 0, 240) (0, 0, 240) (0, 0, 240) (0, 0, 240) \n",
            "(240, 240, 240) (240, 240, 240) (0, 0, 240) (0, 0, 240) \n",
            "(0, 0, 240) (0, 0, 240) (0, 0, 240) (0, 0, 240) \n",
            "(0, 0, 240) (240, 240, 240) (0, 0, 240) (240, 240, 240) \n",
            "3\n",
            "18\n",
            "(0, 240, 0) (0, 240, 0) (0, 240, 0) (0, 240, 0) \n",
            "(0, 240, 0) (240, 240, 240) (240, 240, 240) (0, 240, 0) \n",
            "(0, 240, 0) (0, 240, 0) (0, 240, 0) (0, 240, 0) \n",
            "(0, 240, 0) (240, 240, 240) (240, 240, 240) (0, 240, 0) \n",
            "4\n",
            "18\n",
            "(240, 0, 0) (240, 0, 0) (240, 0, 0) (240, 0, 0) \n",
            "(240, 0, 0) (240, 224, 208) (240, 224, 208) (240, 224, 208) \n",
            "(240, 0, 0) (240, 224, 208) (240, 224, 208) (240, 224, 208) \n",
            "(240, 0, 0) (240, 0, 0) (240, 0, 0) (240, 0, 0) \n",
            "5\n",
            "18\n",
            "(0, 0, 0) (0, 0, 0) (0, 0, 0) (0, 0, 0) \n",
            "(0, 0, 0) (0, 0, 0) (0, 0, 0) (240, 224, 208) \n",
            "(0, 0, 0) (240, 224, 208) (240, 224, 208) (240, 224, 208) \n",
            "(0, 0, 0) (0, 0, 0) (0, 0, 0) (0, 0, 0) \n",
            "6\n",
            "18\n",
            "(0, 0, 0) (208, 224, 240) (208, 224, 240) (0, 0, 0) \n",
            "(0, 0, 0) (208, 224, 240) (208, 224, 240) (0, 0, 0) \n",
            "(0, 0, 0) (0, 0, 0) (0, 0, 0) (0, 0, 0) \n",
            "(0, 0, 0) (208, 224, 240) (208, 224, 240) (0, 0, 0) \n",
            "7\n",
            "18\n",
            "(208, 224, 240) (208, 224, 240) (208, 224, 240) (208, 224, 240) \n",
            "(208, 224, 240) (112, 160, 64) (112, 160, 64) (208, 224, 240) \n",
            "(208, 224, 240) (112, 160, 64) (112, 160, 64) (208, 224, 240) \n",
            "(208, 224, 240) (208, 224, 240) (208, 224, 240) (208, 224, 240) \n",
            "8\n",
            "18\n",
            "(208, 224, 240) (208, 224, 240) (208, 224, 240) (208, 224, 240) \n",
            "(208, 224, 240) (144, 192, 80) (144, 192, 80) (208, 224, 240) \n",
            "(208, 224, 240) (208, 224, 240) (208, 224, 240) (208, 224, 240) \n",
            "(208, 224, 240) (144, 192, 80) (144, 192, 80) (144, 208, 80) \n",
            "9\n",
            "18\n",
            "(240, 224, 208) (240, 224, 208) (240, 224, 208) (240, 224, 208) \n",
            "(240, 224, 208) (176, 128, 16) (176, 128, 16) (240, 224, 208) \n",
            "(240, 224, 208) (240, 224, 208) (240, 224, 208) (240, 224, 208) \n",
            "(240, 224, 208) (176, 128, 16) (176, 128, 16) (176, 128, 16) \n",
            "10\n",
            "18\n",
            "(240, 240, 0) (240, 240, 0) (240, 240, 0) (240, 240, 0) \n",
            "(240, 240, 0) (240, 240, 0) (240, 240, 0) (240, 0, 0) \n",
            "(240, 240, 0) (240, 0, 0) (240, 0, 0) (240, 0, 0) \n",
            "(240, 240, 0) (240, 240, 0) (240, 240, 0) (240, 240, 0) \n",
            "11\n",
            "18\n",
            "(0, 0, 240) (0, 0, 240) (0, 0, 240) (0, 0, 240) \n",
            "(0, 0, 240) (144, 192, 224) (144, 192, 224) (0, 0, 240) \n",
            "(0, 0, 240) (0, 0, 240) (0, 0, 240) (0, 0, 240) \n",
            "(0, 0, 240) (144, 192, 224) (0, 0, 240) (144, 192, 224) \n"
          ],
          "name": "stdout"
        }
      ]
    },
    {
      "cell_type": "code",
      "metadata": {
        "id": "vFS97AW9s2-L",
        "colab_type": "code",
        "colab": {
          "base_uri": "https://localhost:8080/",
          "height": 1000
        },
        "outputId": "a2595d5a-00f2-49bc-9628-b6cb0924d8e0"
      },
      "source": [
        "%pylab inline\n",
        "import matplotlib.pyplot as plt\n",
        "import matplotlib.image as mpimg\n",
        "\n",
        "for i in range(11):\n",
        "    img=mpimg.imread(f'decoded{i + 1}.jpg')\n",
        "    imgplot = plt.imshow(img)\n",
        "    plt.show()"
      ],
      "execution_count": 117,
      "outputs": [
        {
          "output_type": "stream",
          "text": [
            "Populating the interactive namespace from numpy and matplotlib\n"
          ],
          "name": "stdout"
        },
        {
          "output_type": "display_data",
          "data": {
            "image/png": "[encoded data removed]",
            "text/plain": [
              "<Figure size 432x288 with 1 Axes>"
            ]
          },
          "metadata": {
            "tags": [],
            "needs_background": "light"
          }
        },
        {
          "output_type": "display_data",
          "data": {
            "image/png": "[encoded data removed]",
            "text/plain": [
              "<Figure size 432x288 with 1 Axes>"
            ]
          },
          "metadata": {
            "tags": [],
            "needs_background": "light"
          }
        },
        {
          "output_type": "display_data",
          "data": {
            "image/png": "[encoded data removed]",
            "text/plain": [
              "<Figure size 432x288 with 1 Axes>"
            ]
          },
          "metadata": {
            "tags": [],
            "needs_background": "light"
          }
        },
        {
          "output_type": "display_data",
          "data": {
            "image/png": "[encoded data removed]",
            "text/plain": [
              "<Figure size 432x288 with 1 Axes>"
            ]
          },
          "metadata": {
            "tags": [],
            "needs_background": "light"
          }
        },
        {
          "output_type": "display_data",
          "data": {
            "image/png": "[encoded data removed]",
            "text/plain": [
              "<Figure size 432x288 with 1 Axes>"
            ]
          },
          "metadata": {
            "tags": [],
            "needs_background": "light"
          }
        },
        {
          "output_type": "display_data",
          "data": {
            "image/png": "[encoded data removed]",
            "text/plain": [
              "<Figure size 432x288 with 1 Axes>"
            ]
          },
          "metadata": {
            "tags": [],
            "needs_background": "light"
          }
        },
        {
          "output_type": "display_data",
          "data": {
            "image/png": "[encoded data removed]",
            "text/plain": [
              "<Figure size 432x288 with 1 Axes>"
            ]
          },
          "metadata": {
            "tags": [],
            "needs_background": "light"
          }
        },
        {
          "output_type": "display_data",
          "data": {
            "image/png": "[encoded data removed]",
            "text/plain": [
              "<Figure size 432x288 with 1 Axes>"
            ]
          },
          "metadata": {
            "tags": [],
            "needs_background": "light"
          }
        },
        {
          "output_type": "display_data",
          "data": {
            "image/png": "[encoded data removed]",
            "text/plain": [
              "<Figure size 432x288 with 1 Axes>"
            ]
          },
          "metadata": {
            "tags": [],
            "needs_background": "light"
          }
        },
        {
          "output_type": "display_data",
          "data": {
            "image/png": "[encoded data removed]",
            "text/plain": [
              "<Figure size 432x288 with 1 Axes>"
            ]
          },
          "metadata": {
            "tags": [],
            "needs_background": "light"
          }
        },
        {
          "output_type": "display_data",
          "data": {
            "image/png": "[encoded data removed]",
            "text/plain": [
              "<Figure size 432x288 with 1 Axes>"
            ]
          },
          "metadata": {
            "tags": [],
            "needs_background": "light"
          }
        }
      ]
    },
    {
      "cell_type": "code",
      "metadata": {
        "id": "syvTxSzO7mNr",
        "colab_type": "code",
        "colab": {}
      },
      "source": [
        ""
      ],
      "execution_count": null,
      "outputs": []
    }
  ]
}